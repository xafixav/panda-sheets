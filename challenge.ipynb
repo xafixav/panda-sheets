{
 "cells": [
  {
   "cell_type": "code",
   "execution_count": 37,
   "metadata": {},
   "outputs": [],
   "source": [
    "from IPython.display import display\n",
    "import pandas as pd\n",
    "\n",
    "# Read the Excel file and extract the data\n",
    "ignore_lines = 6\n",
    "colums_to_work_with = 'A:F'\n",
    "table_sheets = pd.ExcelFile('teste_ar2.xlsx').sheet_names\n",
    "\n",
    "# Remove the last sheet name\n",
    "if table_sheets:\n",
    "    table_sheets.pop()\n",
    "\n",
    "# Create an ExcelWriter object\n",
    "excel_writer = pd.ExcelWriter('unified_modified_tables.xlsx')\n",
    "\n",
    "for index in table_sheets:\n",
    "    modified_table = pd.read_excel('teste_ar2.xlsx', sheet_name=index, usecols=colums_to_work_with, skiprows=ignore_lines)\n",
    "    \n",
    "    # Iterate over each column\n",
    "    for column in modified_table.columns:\n",
    "        previous_value = None\n",
    "        for idx, value in enumerate(modified_table[column]):\n",
    "            if pd.isna(value):\n",
    "                modified_table.at[idx, column] = previous_value\n",
    "            else:\n",
    "                previous_value = value\n",
    "\n",
    "    # Write each modified table to the ExcelWriter object with the sheet name as index\n",
    "    modified_table.to_excel(excel_writer, sheet_name=index, index=False)\n",
    "\n",
    "# Save the ExcelWriter object to an Excel file\n",
    "excel_writer.close()\n"
   ]
  }
 ],
 "metadata": {
  "kernelspec": {
   "display_name": "Python 3",
   "language": "python",
   "name": "python3"
  },
  "language_info": {
   "codemirror_mode": {
    "name": "ipython",
    "version": 3
   },
   "file_extension": ".py",
   "mimetype": "text/x-python",
   "name": "python",
   "nbconvert_exporter": "python",
   "pygments_lexer": "ipython3",
   "version": "3.12.0"
  }
 },
 "nbformat": 4,
 "nbformat_minor": 2
}
